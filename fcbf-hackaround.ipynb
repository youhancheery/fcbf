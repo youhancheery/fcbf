{
 "cells": [
  {
   "cell_type": "code",
   "execution_count": 5,
   "metadata": {},
   "outputs": [],
   "source": [
    "# fast correlation based filter python implementation (FCBF)\n",
    "# https://www.aaai.org/Papers/ICML/2003/ICML03-111.pdf\n",
    "\n",
    "import numpy as np\n",
    "import pandas as pd\n",
    "from sklearn.datasets import load_iris\n",
    "from math import log, e\n",
    "from scipy import stats\n",
    "from collections import OrderedDict\n",
    "from sklearn.metrics import mutual_info_score\n",
    "\n",
    "# save load_iris() sklearn dataset to iris\n",
    "iris = load_iris()\n",
    "\n",
    "df = pd.DataFrame(data= np.c_[iris['data'], iris['target']],\n",
    "                     columns= iris['feature_names'] + ['target'])\n"
   ]
  },
  {
   "cell_type": "code",
   "execution_count": 6,
   "metadata": {},
   "outputs": [
    {
     "data": {
      "text/html": [
       "<div>\n",
       "<style scoped>\n",
       "    .dataframe tbody tr th:only-of-type {\n",
       "        vertical-align: middle;\n",
       "    }\n",
       "\n",
       "    .dataframe tbody tr th {\n",
       "        vertical-align: top;\n",
       "    }\n",
       "\n",
       "    .dataframe thead th {\n",
       "        text-align: right;\n",
       "    }\n",
       "</style>\n",
       "<table border=\"1\" class=\"dataframe\">\n",
       "  <thead>\n",
       "    <tr style=\"text-align: right;\">\n",
       "      <th></th>\n",
       "      <th>sepal length (cm)</th>\n",
       "      <th>sepal width (cm)</th>\n",
       "      <th>petal length (cm)</th>\n",
       "      <th>petal width (cm)</th>\n",
       "      <th>target</th>\n",
       "    </tr>\n",
       "  </thead>\n",
       "  <tbody>\n",
       "    <tr>\n",
       "      <th>0</th>\n",
       "      <td>5.1</td>\n",
       "      <td>3.5</td>\n",
       "      <td>1.4</td>\n",
       "      <td>0.2</td>\n",
       "      <td>0.0</td>\n",
       "    </tr>\n",
       "    <tr>\n",
       "      <th>1</th>\n",
       "      <td>4.9</td>\n",
       "      <td>3.0</td>\n",
       "      <td>1.4</td>\n",
       "      <td>0.2</td>\n",
       "      <td>0.0</td>\n",
       "    </tr>\n",
       "    <tr>\n",
       "      <th>2</th>\n",
       "      <td>4.7</td>\n",
       "      <td>3.2</td>\n",
       "      <td>1.3</td>\n",
       "      <td>0.2</td>\n",
       "      <td>0.0</td>\n",
       "    </tr>\n",
       "    <tr>\n",
       "      <th>3</th>\n",
       "      <td>4.6</td>\n",
       "      <td>3.1</td>\n",
       "      <td>1.5</td>\n",
       "      <td>0.2</td>\n",
       "      <td>0.0</td>\n",
       "    </tr>\n",
       "    <tr>\n",
       "      <th>4</th>\n",
       "      <td>5.0</td>\n",
       "      <td>3.6</td>\n",
       "      <td>1.4</td>\n",
       "      <td>0.2</td>\n",
       "      <td>0.0</td>\n",
       "    </tr>\n",
       "  </tbody>\n",
       "</table>\n",
       "</div>"
      ],
      "text/plain": [
       "   sepal length (cm)  sepal width (cm)  petal length (cm)  petal width (cm)  \\\n",
       "0                5.1               3.5                1.4               0.2   \n",
       "1                4.9               3.0                1.4               0.2   \n",
       "2                4.7               3.2                1.3               0.2   \n",
       "3                4.6               3.1                1.5               0.2   \n",
       "4                5.0               3.6                1.4               0.2   \n",
       "\n",
       "   target  \n",
       "0     0.0  \n",
       "1     0.0  \n",
       "2     0.0  \n",
       "3     0.0  \n",
       "4     0.0  "
      ]
     },
     "execution_count": 6,
     "metadata": {},
     "output_type": "execute_result"
    }
   ],
   "source": [
    "df.head()\n",
    "# shows we have 4 features.. low dimensional but will be fine for now"
   ]
  },
  {
   "cell_type": "code",
   "execution_count": 13,
   "metadata": {},
   "outputs": [],
   "source": [
    "# entropy calculation\n",
    "def entropy2(x, base=2):\n",
    "\n",
    "    if len(x) <= 1:\n",
    "        return 0\n",
    "\n",
    "    value, counts = np.unique(x, return_counts=True)\n",
    "    probs = counts / len(x)\n",
    "    n_classes = np.count_nonzero(probs)\n",
    "\n",
    "    if n_classes <= 1:\n",
    "        return 0\n",
    "\n",
    "    ent = 0.\n",
    "\n",
    "    base = e if base is None else base\n",
    "    for i in probs:\n",
    "        ent -= i * log(i, base)\n",
    "\n",
    "    return(ent)\n",
    "\n",
    "def entropy3(x, base = 2):\n",
    "    value, count = np.unique(x, return_counts=True)\n",
    "    return(stats.entropy(count, base=base))"
   ]
  },
  {
   "cell_type": "code",
   "execution_count": 14,
   "metadata": {},
   "outputs": [
    {
     "name": "stdout",
     "output_type": "stream",
     "text": [
      "4.822018088381165\n",
      "4.822018088381166\n"
     ]
    }
   ],
   "source": [
    "# entropy functions all seem to output different things?\n",
    "# also, is running a np.unique() the right thing to do?\n",
    "# use 2 or 3\n",
    "print(entropy2(df['sepal length (cm)']))\n",
    "print(entropy3(df['sepal length (cm)']))"
   ]
  },
  {
   "cell_type": "code",
   "execution_count": 15,
   "metadata": {},
   "outputs": [],
   "source": [
    "# information gain\n",
    "def _joint_entropy(x, y):\n",
    "    return(mutual_info_score(x, y))\n",
    "\n",
    "def _conditional_entropy(x, y, base=2):\n",
    "    # H(X|Y) = H(X,Y) - H(Y)\n",
    "    # need to define the joint entropy\n",
    "    \n",
    "    # TODO: develop testing for size of arrays\n",
    "    # TODO: develop testing for input types\n",
    "    \n",
    "    H_xy = _joint_entropy(x, y)\n",
    "    H_y = entropy2(y)\n",
    "\n",
    "    # TODO: calculate conditonal entropy here and check val.. are there bounds?\n",
    "    # TODO: investigate potential optimisations for corner cases\n",
    "\n",
    "    return(H_xy - H_y)\n",
    "\n",
    "\n",
    "def information_gain(x, y):\n",
    "    \n",
    "    H_x = entropy2(x)\n",
    "    H_xy = _conditional_entropy(x, y)\n",
    "    \n",
    "    # TODO: testing\n",
    "    return(H_x - H_xy)"
   ]
  },
  {
   "cell_type": "code",
   "execution_count": 16,
   "metadata": {},
   "outputs": [],
   "source": [
    "# calculate the symmetric uncertainty value\n",
    "def symmetrical_uncertainty(x, y):\n",
    "    return(2 * information_gain(x, y)/ entropy2(x) + entropy2(y))"
   ]
  },
  {
   "cell_type": "code",
   "execution_count": 18,
   "metadata": {},
   "outputs": [
    {
     "name": "stdout",
     "output_type": "stream",
     "text": [
      "calculating for sepal length (cm) and target\n",
      "calculating for sepal width (cm) and target\n",
      "calculating for petal length (cm) and target\n",
      "calculating for petal width (cm) and target\n",
      "[('sepal width (cm)', 4.198593345781159), ('sepal length (cm)', 3.9902350000624467), ('petal width (cm)', 3.8750376849519843), ('petal length (cm)', 3.816377686393965)]\n"
     ]
    }
   ],
   "source": [
    "# calculate the symmetrical uncertainty\n",
    "\n",
    "features = df.iloc[:, 0:-1]\n",
    "target = df.iloc[:, -1]\n",
    "\n",
    "def calc_sprime(features, target):\n",
    "    s_prime = {}\n",
    "    for name, feature in features.iteritems():\n",
    "        print(\"calculating for {} and target\".format(name))\n",
    "        tmp_su = symmetrical_uncertainty(feature.values, target.values)\n",
    "        if(tmp_su >= 0.01): # random delta, should make to variable and change this later\n",
    "            s_prime[name] = tmp_su\n",
    "    s_prime = sorted(s_prime.items(), key = lambda x: x[1], reverse=True)    \n",
    "    return(s_prime)\n",
    "\n",
    "s_prime = calc_sprime(features, target)\n",
    "print(s_prime)"
   ]
  },
  {
   "cell_type": "code",
   "execution_count": 19,
   "metadata": {},
   "outputs": [],
   "source": [
    "# get next element from the s_prime list\n",
    "# need this in order to compare two subsequent features\n",
    "# TODO: potential room for optimisation\n",
    "\n",
    "def get_next_element(cur_index, cur_list):\n",
    "    # check if current element is the last element\n",
    "    if(cur_index + 1 == len(cur_list)):\n",
    "        return(None, None) # this absolutely sucks. TODO: fix\n",
    "    else:\n",
    "        next_index = cur_index + 1\n",
    "        next_name = cur_list[next_index][0]\n",
    "        next_su = cur_list[next_index][1]\n",
    "        return(next_name, next_su)\n"
   ]
  },
  {
   "cell_type": "code",
   "execution_count": 20,
   "metadata": {},
   "outputs": [
    {
     "name": "stdout",
     "output_type": "stream",
     "text": [
      "s_best = [('sepal width (cm)', 4.198593345781159), ('sepal length (cm)', 3.9902350000624467), ('petal length (cm)', 3.816377686393965)]\n"
     ]
    }
   ],
   "source": [
    "# final fcbf algorithm loop\n",
    "\n",
    "def fcbf_loop(s, features, target):\n",
    "    idx = 0\n",
    "    for name, value in s:\n",
    "        next_name, next_su = get_next_element(idx, s_prime)\n",
    "        if (next_name != None):\n",
    "            idx += 1\n",
    "            if(symmetrical_uncertainty(features[name].values, features[next_name].values) >=\n",
    "               symmetrical_uncertainty(features[next_name].values, target.values)):\n",
    "                # remove next item from the list\n",
    "                if(idx + 1 != len(s)):\n",
    "                    del s[idx + 1] # needs some thorough testing\n",
    "    return(s)\n",
    "\n",
    "s_best = fcbf_loop(s_prime, features, target)\n",
    "print(\"s_best = {}\".format(s_best))\n"
   ]
  },
  {
   "cell_type": "code",
   "execution_count": 25,
   "metadata": {},
   "outputs": [],
   "source": [
    "def select_features(s_best, df):\n",
    "    feature_names = [x[0] for x in s_best]\n",
    "    # TODO: keep target column in the dataframe?\n",
    "    return(df[[col for col in feature_names]])\n",
    "\n",
    "filtered_features = select_features(s_best, df)"
   ]
  },
  {
   "cell_type": "code",
   "execution_count": 26,
   "metadata": {},
   "outputs": [
    {
     "data": {
      "text/html": [
       "<div>\n",
       "<style scoped>\n",
       "    .dataframe tbody tr th:only-of-type {\n",
       "        vertical-align: middle;\n",
       "    }\n",
       "\n",
       "    .dataframe tbody tr th {\n",
       "        vertical-align: top;\n",
       "    }\n",
       "\n",
       "    .dataframe thead th {\n",
       "        text-align: right;\n",
       "    }\n",
       "</style>\n",
       "<table border=\"1\" class=\"dataframe\">\n",
       "  <thead>\n",
       "    <tr style=\"text-align: right;\">\n",
       "      <th></th>\n",
       "      <th>sepal width (cm)</th>\n",
       "      <th>sepal length (cm)</th>\n",
       "      <th>petal length (cm)</th>\n",
       "    </tr>\n",
       "  </thead>\n",
       "  <tbody>\n",
       "    <tr>\n",
       "      <th>0</th>\n",
       "      <td>3.5</td>\n",
       "      <td>5.1</td>\n",
       "      <td>1.4</td>\n",
       "    </tr>\n",
       "    <tr>\n",
       "      <th>1</th>\n",
       "      <td>3.0</td>\n",
       "      <td>4.9</td>\n",
       "      <td>1.4</td>\n",
       "    </tr>\n",
       "    <tr>\n",
       "      <th>2</th>\n",
       "      <td>3.2</td>\n",
       "      <td>4.7</td>\n",
       "      <td>1.3</td>\n",
       "    </tr>\n",
       "    <tr>\n",
       "      <th>3</th>\n",
       "      <td>3.1</td>\n",
       "      <td>4.6</td>\n",
       "      <td>1.5</td>\n",
       "    </tr>\n",
       "    <tr>\n",
       "      <th>4</th>\n",
       "      <td>3.6</td>\n",
       "      <td>5.0</td>\n",
       "      <td>1.4</td>\n",
       "    </tr>\n",
       "  </tbody>\n",
       "</table>\n",
       "</div>"
      ],
      "text/plain": [
       "   sepal width (cm)  sepal length (cm)  petal length (cm)\n",
       "0               3.5                5.1                1.4\n",
       "1               3.0                4.9                1.4\n",
       "2               3.2                4.7                1.3\n",
       "3               3.1                4.6                1.5\n",
       "4               3.6                5.0                1.4"
      ]
     },
     "execution_count": 26,
     "metadata": {},
     "output_type": "execute_result"
    }
   ],
   "source": [
    "filtered_df.head()"
   ]
  },
  {
   "cell_type": "code",
   "execution_count": null,
   "metadata": {},
   "outputs": [],
   "source": []
  }
 ],
 "metadata": {
  "kernelspec": {
   "display_name": "Python 3",
   "language": "python",
   "name": "python3"
  },
  "language_info": {
   "codemirror_mode": {
    "name": "ipython",
    "version": 3
   },
   "file_extension": ".py",
   "mimetype": "text/x-python",
   "name": "python",
   "nbconvert_exporter": "python",
   "pygments_lexer": "ipython3",
   "version": "3.6.6"
  }
 },
 "nbformat": 4,
 "nbformat_minor": 2
}
